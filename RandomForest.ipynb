{
  "nbformat": 4,
  "nbformat_minor": 0,
  "metadata": {
    "colab": {
      "name": "RandomForest.ipynb",
      "provenance": [],
      "collapsed_sections": [],
      "include_colab_link": true
    },
    "kernelspec": {
      "name": "python3",
      "display_name": "Python 3"
    },
    "language_info": {
      "name": "python"
    }
  },
  "cells": [
    {
      "cell_type": "markdown",
      "metadata": {
        "id": "view-in-github",
        "colab_type": "text"
      },
      "source": [
        "<a href=\"https://colab.research.google.com/github/manhili/Machine-Learning/blob/main/RandomForest.ipynb\" target=\"_parent\"><img src=\"https://colab.research.google.com/assets/colab-badge.svg\" alt=\"Open In Colab\"/></a>"
      ]
    },
    {
      "cell_type": "markdown",
      "metadata": {
        "id": "GMlAsVW09H5j"
      },
      "source": [
        "##**Supervised Learning Project: Disease Prediction Using Random Forest Classifier**\n",
        "**Case study** : *Classifying Clinical Malaria Outcomes.*\n",
        "\n",
        "**Based on this article** : Morang’a, C.M., Amenga–Etego, L., Bah, S.Y. et al. Machine learning approaches classify clinical malaria outcomes based on haematological parameters. BMC Med 18, 375 (2020). https://doi.org/10.1186/s12916-020-01823-3\n",
        "\n",
        "**The list of haematological parameters**\n",
        " "
      ]
    },
    {
      "cell_type": "markdown",
      "metadata": {
        "id": "Y-bK63A2KSME"
      },
      "source": [
        "#**1. Import the libraries**"
      ]
    },
    {
      "cell_type": "code",
      "metadata": {
        "id": "UFgkFhNgKyeO"
      },
      "source": [
        "import pandas as pd\n",
        "import numpy as np        \n",
        "\n",
        "import matplotlib.pyplot as plt\n",
        "import seaborn as sns     \n",
        "\n",
        "import urllib.request\n",
        "\n",
        "from sklearn.preprocessing import LabelEncoder\n",
        "from sklearn.preprocessing import MinMaxScaler\n",
        "\n",
        "from sklearn.model_selection import train_test_split\n",
        "from sklearn.model_selection import GridSearchCV\n",
        "\n",
        "from sklearn.ensemble import RandomForestClassifier\n",
        "\n",
        "from sklearn.metrics import accuracy_score, f1_score, precision_score, recall_score\n",
        "from sklearn.metrics import plot_confusion_matrix\n",
        "\n",
        "from sklearn.tree import plot_tree\n",
        "%matplotlib inline"
      ],
      "execution_count": 1,
      "outputs": []
    },
    {
      "cell_type": "markdown",
      "metadata": {
        "id": "4zUXG4Z-LBib"
      },
      "source": [
        "# **2. Import the dataset**"
      ]
    },
    {
      "cell_type": "code",
      "metadata": {
        "id": "XXYWDJP9LISQ"
      },
      "source": [
        "#set urlS to the data file.\n",
        "url = \"https://static-content.springer.com/esm/art%3A10.1186%2Fs12916-020-01823-3/MediaObjects/12916_2020_1823_MOESM2_ESM.xlsx\"\n",
        "\n",
        "#read the data with pandas\n",
        "data = pd.read_excel(url, sheet_name=0)"
      ],
      "execution_count": 2,
      "outputs": []
    },
    {
      "cell_type": "markdown",
      "metadata": {
        "id": "nxW1QOFcdIfJ"
      },
      "source": [
        "#**3. Exploring Data Analysis (EDA)**"
      ]
    },
    {
      "cell_type": "markdown",
      "metadata": {
        "id": "NSJNa9HQdyjv"
      },
      "source": [
        "**Number of rows and columns of the dataset.**"
      ]
    },
    {
      "cell_type": "code",
      "metadata": {
        "colab": {
          "base_uri": "https://localhost:8080/"
        },
        "id": "GLTsiXL_dOuu",
        "outputId": "9ba22ae1-ac98-48c3-b12e-322f1c10980e"
      },
      "source": [
        "data.shape"
      ],
      "execution_count": 3,
      "outputs": [
        {
          "output_type": "execute_result",
          "data": {
            "text/plain": [
              "(2207, 34)"
            ]
          },
          "metadata": {},
          "execution_count": 3
        }
      ]
    },
    {
      "cell_type": "markdown",
      "metadata": {
        "id": "-AhEjkpaedYP"
      },
      "source": [
        "**Have a look at the data.**"
      ]
    },
    {
      "cell_type": "code",
      "metadata": {
        "colab": {
          "base_uri": "https://localhost:8080/",
          "height": 357
        },
        "id": "L4CDzoNPeIPv",
        "outputId": "4b18b654-6c85-4e78-9364-5d2193cf972e"
      },
      "source": [
        "#view first 5 rows of the data.\n",
        "data.head()"
      ],
      "execution_count": 4,
      "outputs": [
        {
          "output_type": "execute_result",
          "data": {
            "text/html": [
              "\n",
              "  <div id=\"df-5485fc6e-2868-49cb-969e-d9faacaf1c54\">\n",
              "    <div class=\"colab-df-container\">\n",
              "      <div>\n",
              "<style scoped>\n",
              "    .dataframe tbody tr th:only-of-type {\n",
              "        vertical-align: middle;\n",
              "    }\n",
              "\n",
              "    .dataframe tbody tr th {\n",
              "        vertical-align: top;\n",
              "    }\n",
              "\n",
              "    .dataframe thead th {\n",
              "        text-align: right;\n",
              "    }\n",
              "</style>\n",
              "<table border=\"1\" class=\"dataframe\">\n",
              "  <thead>\n",
              "    <tr style=\"text-align: right;\">\n",
              "      <th></th>\n",
              "      <th>SampleID</th>\n",
              "      <th>consent_given</th>\n",
              "      <th>location</th>\n",
              "      <th>Enrollment_Year</th>\n",
              "      <th>bednet</th>\n",
              "      <th>fever_symptom</th>\n",
              "      <th>temperature</th>\n",
              "      <th>Suspected_Organism</th>\n",
              "      <th>Suspected_infection</th>\n",
              "      <th>RDT</th>\n",
              "      <th>Blood_culture</th>\n",
              "      <th>Urine_culture</th>\n",
              "      <th>Taq_man_PCR</th>\n",
              "      <th>parasite_density</th>\n",
              "      <th>Microscopy</th>\n",
              "      <th>Laboratory_Results</th>\n",
              "      <th>Clinical_Diagnosis</th>\n",
              "      <th>wbc_count</th>\n",
              "      <th>rbc_count</th>\n",
              "      <th>hb_level</th>\n",
              "      <th>hematocrit</th>\n",
              "      <th>mean_cell_volume</th>\n",
              "      <th>mean_corp_hb</th>\n",
              "      <th>mean_cell_hb_conc</th>\n",
              "      <th>platelet_count</th>\n",
              "      <th>platelet_distr_width</th>\n",
              "      <th>mean_platelet_vl</th>\n",
              "      <th>neutrophils_percent</th>\n",
              "      <th>lymphocytes_percent</th>\n",
              "      <th>mixed_cells_percent</th>\n",
              "      <th>neutrophils_count</th>\n",
              "      <th>lymphocytes_count</th>\n",
              "      <th>mixed_cells_count</th>\n",
              "      <th>RBC_dist_width_Percent</th>\n",
              "    </tr>\n",
              "  </thead>\n",
              "  <tbody>\n",
              "    <tr>\n",
              "      <th>0</th>\n",
              "      <td>CCS20043</td>\n",
              "      <td>yes</td>\n",
              "      <td>Navrongo</td>\n",
              "      <td>2004</td>\n",
              "      <td>NaN</td>\n",
              "      <td>Yes</td>\n",
              "      <td>38.0</td>\n",
              "      <td>Not Known / Missing entry</td>\n",
              "      <td>NaN</td>\n",
              "      <td>Positive</td>\n",
              "      <td>NaN</td>\n",
              "      <td>NaN</td>\n",
              "      <td>NaN</td>\n",
              "      <td>126080.0</td>\n",
              "      <td>Positive</td>\n",
              "      <td>P. falciparum</td>\n",
              "      <td>Severe Malaria</td>\n",
              "      <td>5.7</td>\n",
              "      <td>2.8</td>\n",
              "      <td>5.8</td>\n",
              "      <td>16.1</td>\n",
              "      <td>59.0</td>\n",
              "      <td>21.1</td>\n",
              "      <td>36.0</td>\n",
              "      <td>156.0</td>\n",
              "      <td>8.2</td>\n",
              "      <td>6.8</td>\n",
              "      <td>61.8</td>\n",
              "      <td>31.7</td>\n",
              "      <td>6.5</td>\n",
              "      <td>3.6</td>\n",
              "      <td>1.8</td>\n",
              "      <td>0.3</td>\n",
              "      <td>19.0</td>\n",
              "    </tr>\n",
              "    <tr>\n",
              "      <th>1</th>\n",
              "      <td>CCS20102</td>\n",
              "      <td>yes</td>\n",
              "      <td>Navrongo</td>\n",
              "      <td>2004</td>\n",
              "      <td>NaN</td>\n",
              "      <td>Yes</td>\n",
              "      <td>38.2</td>\n",
              "      <td>Not Known / Missing entry</td>\n",
              "      <td>NaN</td>\n",
              "      <td>Positive</td>\n",
              "      <td>NaN</td>\n",
              "      <td>NaN</td>\n",
              "      <td>NaN</td>\n",
              "      <td>149400.0</td>\n",
              "      <td>Positive</td>\n",
              "      <td>P. falciparum</td>\n",
              "      <td>Severe Malaria</td>\n",
              "      <td>7.8</td>\n",
              "      <td>3.5</td>\n",
              "      <td>9.2</td>\n",
              "      <td>24.2</td>\n",
              "      <td>70.0</td>\n",
              "      <td>26.4</td>\n",
              "      <td>37.8</td>\n",
              "      <td>55.0</td>\n",
              "      <td>16.5</td>\n",
              "      <td>7.6</td>\n",
              "      <td>68.5</td>\n",
              "      <td>23.6</td>\n",
              "      <td>7.9</td>\n",
              "      <td>5.4</td>\n",
              "      <td>1.8</td>\n",
              "      <td>0.6</td>\n",
              "      <td>14.4</td>\n",
              "    </tr>\n",
              "    <tr>\n",
              "      <th>2</th>\n",
              "      <td>CCS20106</td>\n",
              "      <td>yes</td>\n",
              "      <td>Navrongo</td>\n",
              "      <td>2004</td>\n",
              "      <td>NaN</td>\n",
              "      <td>Yes</td>\n",
              "      <td>37.7</td>\n",
              "      <td>Not Known / Missing entry</td>\n",
              "      <td>NaN</td>\n",
              "      <td>Positive</td>\n",
              "      <td>NaN</td>\n",
              "      <td>NaN</td>\n",
              "      <td>NaN</td>\n",
              "      <td>5880.0</td>\n",
              "      <td>Positive</td>\n",
              "      <td>P. falciparum</td>\n",
              "      <td>Severe Malaria</td>\n",
              "      <td>8.2</td>\n",
              "      <td>1.0</td>\n",
              "      <td>2.3</td>\n",
              "      <td>5.7</td>\n",
              "      <td>59.0</td>\n",
              "      <td>23.8</td>\n",
              "      <td>40.4</td>\n",
              "      <td>20.0</td>\n",
              "      <td>2.3</td>\n",
              "      <td>5.9</td>\n",
              "      <td>32.8</td>\n",
              "      <td>53.3</td>\n",
              "      <td>13.9</td>\n",
              "      <td>2.8</td>\n",
              "      <td>4.3</td>\n",
              "      <td>1.1</td>\n",
              "      <td>18.0</td>\n",
              "    </tr>\n",
              "    <tr>\n",
              "      <th>3</th>\n",
              "      <td>CCS20147</td>\n",
              "      <td>yes</td>\n",
              "      <td>Navrongo</td>\n",
              "      <td>2004</td>\n",
              "      <td>NaN</td>\n",
              "      <td>Yes</td>\n",
              "      <td>37.7</td>\n",
              "      <td>Not Known / Missing entry</td>\n",
              "      <td>NaN</td>\n",
              "      <td>Positive</td>\n",
              "      <td>NaN</td>\n",
              "      <td>NaN</td>\n",
              "      <td>NaN</td>\n",
              "      <td>85000.0</td>\n",
              "      <td>Positive</td>\n",
              "      <td>P. falciparum</td>\n",
              "      <td>Severe Malaria</td>\n",
              "      <td>15.9</td>\n",
              "      <td>3.3</td>\n",
              "      <td>10.1</td>\n",
              "      <td>25.1</td>\n",
              "      <td>75.0</td>\n",
              "      <td>30.2</td>\n",
              "      <td>40.2</td>\n",
              "      <td>132.0</td>\n",
              "      <td>17.2</td>\n",
              "      <td>6.2</td>\n",
              "      <td>82.6</td>\n",
              "      <td>11.5</td>\n",
              "      <td>5.9</td>\n",
              "      <td>13.2</td>\n",
              "      <td>1.8</td>\n",
              "      <td>0.9</td>\n",
              "      <td>13.7</td>\n",
              "    </tr>\n",
              "    <tr>\n",
              "      <th>4</th>\n",
              "      <td>CCS20170</td>\n",
              "      <td>yes</td>\n",
              "      <td>Navrongo</td>\n",
              "      <td>2004</td>\n",
              "      <td>NaN</td>\n",
              "      <td>Yes</td>\n",
              "      <td>37.1</td>\n",
              "      <td>Not Known / Missing entry</td>\n",
              "      <td>NaN</td>\n",
              "      <td>Positive</td>\n",
              "      <td>NaN</td>\n",
              "      <td>NaN</td>\n",
              "      <td>NaN</td>\n",
              "      <td>149760.0</td>\n",
              "      <td>Positive</td>\n",
              "      <td>P. falciparum</td>\n",
              "      <td>Severe Malaria</td>\n",
              "      <td>4.5</td>\n",
              "      <td>2.1</td>\n",
              "      <td>5.7</td>\n",
              "      <td>16.1</td>\n",
              "      <td>78.0</td>\n",
              "      <td>27.1</td>\n",
              "      <td>35.4</td>\n",
              "      <td>85.0</td>\n",
              "      <td>16.1</td>\n",
              "      <td>6.8</td>\n",
              "      <td>83.7</td>\n",
              "      <td>11.3</td>\n",
              "      <td>5.0</td>\n",
              "      <td>3.8</td>\n",
              "      <td>0.5</td>\n",
              "      <td>0.2</td>\n",
              "      <td>15.0</td>\n",
              "    </tr>\n",
              "  </tbody>\n",
              "</table>\n",
              "</div>\n",
              "      <button class=\"colab-df-convert\" onclick=\"convertToInteractive('df-5485fc6e-2868-49cb-969e-d9faacaf1c54')\"\n",
              "              title=\"Convert this dataframe to an interactive table.\"\n",
              "              style=\"display:none;\">\n",
              "        \n",
              "  <svg xmlns=\"http://www.w3.org/2000/svg\" height=\"24px\"viewBox=\"0 0 24 24\"\n",
              "       width=\"24px\">\n",
              "    <path d=\"M0 0h24v24H0V0z\" fill=\"none\"/>\n",
              "    <path d=\"M18.56 5.44l.94 2.06.94-2.06 2.06-.94-2.06-.94-.94-2.06-.94 2.06-2.06.94zm-11 1L8.5 8.5l.94-2.06 2.06-.94-2.06-.94L8.5 2.5l-.94 2.06-2.06.94zm10 10l.94 2.06.94-2.06 2.06-.94-2.06-.94-.94-2.06-.94 2.06-2.06.94z\"/><path d=\"M17.41 7.96l-1.37-1.37c-.4-.4-.92-.59-1.43-.59-.52 0-1.04.2-1.43.59L10.3 9.45l-7.72 7.72c-.78.78-.78 2.05 0 2.83L4 21.41c.39.39.9.59 1.41.59.51 0 1.02-.2 1.41-.59l7.78-7.78 2.81-2.81c.8-.78.8-2.07 0-2.86zM5.41 20L4 18.59l7.72-7.72 1.47 1.35L5.41 20z\"/>\n",
              "  </svg>\n",
              "      </button>\n",
              "      \n",
              "  <style>\n",
              "    .colab-df-container {\n",
              "      display:flex;\n",
              "      flex-wrap:wrap;\n",
              "      gap: 12px;\n",
              "    }\n",
              "\n",
              "    .colab-df-convert {\n",
              "      background-color: #E8F0FE;\n",
              "      border: none;\n",
              "      border-radius: 50%;\n",
              "      cursor: pointer;\n",
              "      display: none;\n",
              "      fill: #1967D2;\n",
              "      height: 32px;\n",
              "      padding: 0 0 0 0;\n",
              "      width: 32px;\n",
              "    }\n",
              "\n",
              "    .colab-df-convert:hover {\n",
              "      background-color: #E2EBFA;\n",
              "      box-shadow: 0px 1px 2px rgba(60, 64, 67, 0.3), 0px 1px 3px 1px rgba(60, 64, 67, 0.15);\n",
              "      fill: #174EA6;\n",
              "    }\n",
              "\n",
              "    [theme=dark] .colab-df-convert {\n",
              "      background-color: #3B4455;\n",
              "      fill: #D2E3FC;\n",
              "    }\n",
              "\n",
              "    [theme=dark] .colab-df-convert:hover {\n",
              "      background-color: #434B5C;\n",
              "      box-shadow: 0px 1px 3px 1px rgba(0, 0, 0, 0.15);\n",
              "      filter: drop-shadow(0px 1px 2px rgba(0, 0, 0, 0.3));\n",
              "      fill: #FFFFFF;\n",
              "    }\n",
              "  </style>\n",
              "\n",
              "      <script>\n",
              "        const buttonEl =\n",
              "          document.querySelector('#df-5485fc6e-2868-49cb-969e-d9faacaf1c54 button.colab-df-convert');\n",
              "        buttonEl.style.display =\n",
              "          google.colab.kernel.accessAllowed ? 'block' : 'none';\n",
              "\n",
              "        async function convertToInteractive(key) {\n",
              "          const element = document.querySelector('#df-5485fc6e-2868-49cb-969e-d9faacaf1c54');\n",
              "          const dataTable =\n",
              "            await google.colab.kernel.invokeFunction('convertToInteractive',\n",
              "                                                     [key], {});\n",
              "          if (!dataTable) return;\n",
              "\n",
              "          const docLinkHtml = 'Like what you see? Visit the ' +\n",
              "            '<a target=\"_blank\" href=https://colab.research.google.com/notebooks/data_table.ipynb>data table notebook</a>'\n",
              "            + ' to learn more about interactive tables.';\n",
              "          element.innerHTML = '';\n",
              "          dataTable['output_type'] = 'display_data';\n",
              "          await google.colab.output.renderOutput(dataTable, element);\n",
              "          const docLink = document.createElement('div');\n",
              "          docLink.innerHTML = docLinkHtml;\n",
              "          element.appendChild(docLink);\n",
              "        }\n",
              "      </script>\n",
              "    </div>\n",
              "  </div>\n",
              "  "
            ],
            "text/plain": [
              "   SampleID consent_given  ... mixed_cells_count  RBC_dist_width_Percent\n",
              "0  CCS20043           yes  ...               0.3                    19.0\n",
              "1  CCS20102           yes  ...               0.6                    14.4\n",
              "2  CCS20106           yes  ...               1.1                    18.0\n",
              "3  CCS20147           yes  ...               0.9                    13.7\n",
              "4  CCS20170           yes  ...               0.2                    15.0\n",
              "\n",
              "[5 rows x 34 columns]"
            ]
          },
          "metadata": {},
          "execution_count": 4
        }
      ]
    },
    {
      "cell_type": "code",
      "metadata": {
        "colab": {
          "base_uri": "https://localhost:8080/"
        },
        "id": "SmcM2A-VemP2",
        "outputId": "8bd695e7-ae1f-4804-b529-3c5646f5c48c"
      },
      "source": [
        "# Get informations about the data\n",
        "data.info()"
      ],
      "execution_count": 5,
      "outputs": [
        {
          "output_type": "stream",
          "name": "stdout",
          "text": [
            "<class 'pandas.core.frame.DataFrame'>\n",
            "RangeIndex: 2207 entries, 0 to 2206\n",
            "Data columns (total 34 columns):\n",
            " #   Column                  Non-Null Count  Dtype  \n",
            "---  ------                  --------------  -----  \n",
            " 0   SampleID                2207 non-null   object \n",
            " 1   consent_given           2207 non-null   object \n",
            " 2   location                2207 non-null   object \n",
            " 3   Enrollment_Year         2207 non-null   int64  \n",
            " 4   bednet                  1676 non-null   object \n",
            " 5   fever_symptom           2200 non-null   object \n",
            " 6   temperature             2197 non-null   float64\n",
            " 7   Suspected_Organism      2207 non-null   object \n",
            " 8   Suspected_infection     1569 non-null   object \n",
            " 9   RDT                     2065 non-null   object \n",
            " 10  Blood_culture           122 non-null    object \n",
            " 11  Urine_culture           112 non-null    object \n",
            " 12  Taq_man_PCR             176 non-null    object \n",
            " 13  parasite_density        2173 non-null   float64\n",
            " 14  Microscopy              2170 non-null   object \n",
            " 15  Laboratory_Results      2207 non-null   object \n",
            " 16  Clinical_Diagnosis      2207 non-null   object \n",
            " 17  wbc_count               2207 non-null   float64\n",
            " 18  rbc_count               2207 non-null   float64\n",
            " 19  hb_level                2207 non-null   float64\n",
            " 20  hematocrit              2207 non-null   float64\n",
            " 21  mean_cell_volume        2207 non-null   float64\n",
            " 22  mean_corp_hb            2204 non-null   float64\n",
            " 23  mean_cell_hb_conc       2205 non-null   float64\n",
            " 24  platelet_count          2198 non-null   float64\n",
            " 25  platelet_distr_width    2175 non-null   float64\n",
            " 26  mean_platelet_vl        2190 non-null   float64\n",
            " 27  neutrophils_percent     2207 non-null   float64\n",
            " 28  lymphocytes_percent     2207 non-null   float64\n",
            " 29  mixed_cells_percent     2207 non-null   float64\n",
            " 30  neutrophils_count       2195 non-null   float64\n",
            " 31  lymphocytes_count       2196 non-null   float64\n",
            " 32  mixed_cells_count       2196 non-null   float64\n",
            " 33  RBC_dist_width_Percent  2198 non-null   float64\n",
            "dtypes: float64(19), int64(1), object(14)\n",
            "memory usage: 586.4+ KB\n"
          ]
        }
      ]
    },
    {
      "cell_type": "markdown",
      "metadata": {
        "id": "YHp3Cmh9g6oI"
      },
      "source": [
        "**Subset data**"
      ]
    },
    {
      "cell_type": "code",
      "metadata": {
        "id": "1S1viH2PhE4z"
      },
      "source": [
        "#Keep features 'Clinical diagnosis' up to 'RBC dist width Percent'\n",
        "#meaning we will subset the data from column 16 - the last column\n",
        "subset = data.iloc[:,16:]"
      ],
      "execution_count": 6,
      "outputs": []
    },
    {
      "cell_type": "code",
      "metadata": {
        "colab": {
          "base_uri": "https://localhost:8080/"
        },
        "id": "RK5XZ560hjO5",
        "outputId": "d11017af-9394-4f5a-9a10-70edc3cb927a"
      },
      "source": [
        "subset.shape"
      ],
      "execution_count": 7,
      "outputs": [
        {
          "output_type": "execute_result",
          "data": {
            "text/plain": [
              "(2207, 18)"
            ]
          },
          "metadata": {},
          "execution_count": 7
        }
      ]
    },
    {
      "cell_type": "code",
      "metadata": {
        "colab": {
          "base_uri": "https://localhost:8080/"
        },
        "id": "ZIWuQKtihl09",
        "outputId": "900be785-bc06-4264-9be1-3f6e9cde7329"
      },
      "source": [
        "subset.info()"
      ],
      "execution_count": 8,
      "outputs": [
        {
          "output_type": "stream",
          "name": "stdout",
          "text": [
            "<class 'pandas.core.frame.DataFrame'>\n",
            "RangeIndex: 2207 entries, 0 to 2206\n",
            "Data columns (total 18 columns):\n",
            " #   Column                  Non-Null Count  Dtype  \n",
            "---  ------                  --------------  -----  \n",
            " 0   Clinical_Diagnosis      2207 non-null   object \n",
            " 1   wbc_count               2207 non-null   float64\n",
            " 2   rbc_count               2207 non-null   float64\n",
            " 3   hb_level                2207 non-null   float64\n",
            " 4   hematocrit              2207 non-null   float64\n",
            " 5   mean_cell_volume        2207 non-null   float64\n",
            " 6   mean_corp_hb            2204 non-null   float64\n",
            " 7   mean_cell_hb_conc       2205 non-null   float64\n",
            " 8   platelet_count          2198 non-null   float64\n",
            " 9   platelet_distr_width    2175 non-null   float64\n",
            " 10  mean_platelet_vl        2190 non-null   float64\n",
            " 11  neutrophils_percent     2207 non-null   float64\n",
            " 12  lymphocytes_percent     2207 non-null   float64\n",
            " 13  mixed_cells_percent     2207 non-null   float64\n",
            " 14  neutrophils_count       2195 non-null   float64\n",
            " 15  lymphocytes_count       2196 non-null   float64\n",
            " 16  mixed_cells_count       2196 non-null   float64\n",
            " 17  RBC_dist_width_Percent  2198 non-null   float64\n",
            "dtypes: float64(17), object(1)\n",
            "memory usage: 310.5+ KB\n"
          ]
        }
      ]
    },
    {
      "cell_type": "code",
      "metadata": {
        "colab": {
          "base_uri": "https://localhost:8080/",
          "height": 270
        },
        "id": "cJOGn8PThwco",
        "outputId": "7dc8dbdd-8f34-43ae-f921-fefa078825a3"
      },
      "source": [
        "subset.head()"
      ],
      "execution_count": 9,
      "outputs": [
        {
          "output_type": "execute_result",
          "data": {
            "text/html": [
              "\n",
              "  <div id=\"df-1912b8bf-9932-49ba-b0eb-84bf8ae88d48\">\n",
              "    <div class=\"colab-df-container\">\n",
              "      <div>\n",
              "<style scoped>\n",
              "    .dataframe tbody tr th:only-of-type {\n",
              "        vertical-align: middle;\n",
              "    }\n",
              "\n",
              "    .dataframe tbody tr th {\n",
              "        vertical-align: top;\n",
              "    }\n",
              "\n",
              "    .dataframe thead th {\n",
              "        text-align: right;\n",
              "    }\n",
              "</style>\n",
              "<table border=\"1\" class=\"dataframe\">\n",
              "  <thead>\n",
              "    <tr style=\"text-align: right;\">\n",
              "      <th></th>\n",
              "      <th>Clinical_Diagnosis</th>\n",
              "      <th>wbc_count</th>\n",
              "      <th>rbc_count</th>\n",
              "      <th>hb_level</th>\n",
              "      <th>hematocrit</th>\n",
              "      <th>mean_cell_volume</th>\n",
              "      <th>mean_corp_hb</th>\n",
              "      <th>mean_cell_hb_conc</th>\n",
              "      <th>platelet_count</th>\n",
              "      <th>platelet_distr_width</th>\n",
              "      <th>mean_platelet_vl</th>\n",
              "      <th>neutrophils_percent</th>\n",
              "      <th>lymphocytes_percent</th>\n",
              "      <th>mixed_cells_percent</th>\n",
              "      <th>neutrophils_count</th>\n",
              "      <th>lymphocytes_count</th>\n",
              "      <th>mixed_cells_count</th>\n",
              "      <th>RBC_dist_width_Percent</th>\n",
              "    </tr>\n",
              "  </thead>\n",
              "  <tbody>\n",
              "    <tr>\n",
              "      <th>0</th>\n",
              "      <td>Severe Malaria</td>\n",
              "      <td>5.7</td>\n",
              "      <td>2.8</td>\n",
              "      <td>5.8</td>\n",
              "      <td>16.1</td>\n",
              "      <td>59.0</td>\n",
              "      <td>21.1</td>\n",
              "      <td>36.0</td>\n",
              "      <td>156.0</td>\n",
              "      <td>8.2</td>\n",
              "      <td>6.8</td>\n",
              "      <td>61.8</td>\n",
              "      <td>31.7</td>\n",
              "      <td>6.5</td>\n",
              "      <td>3.6</td>\n",
              "      <td>1.8</td>\n",
              "      <td>0.3</td>\n",
              "      <td>19.0</td>\n",
              "    </tr>\n",
              "    <tr>\n",
              "      <th>1</th>\n",
              "      <td>Severe Malaria</td>\n",
              "      <td>7.8</td>\n",
              "      <td>3.5</td>\n",
              "      <td>9.2</td>\n",
              "      <td>24.2</td>\n",
              "      <td>70.0</td>\n",
              "      <td>26.4</td>\n",
              "      <td>37.8</td>\n",
              "      <td>55.0</td>\n",
              "      <td>16.5</td>\n",
              "      <td>7.6</td>\n",
              "      <td>68.5</td>\n",
              "      <td>23.6</td>\n",
              "      <td>7.9</td>\n",
              "      <td>5.4</td>\n",
              "      <td>1.8</td>\n",
              "      <td>0.6</td>\n",
              "      <td>14.4</td>\n",
              "    </tr>\n",
              "    <tr>\n",
              "      <th>2</th>\n",
              "      <td>Severe Malaria</td>\n",
              "      <td>8.2</td>\n",
              "      <td>1.0</td>\n",
              "      <td>2.3</td>\n",
              "      <td>5.7</td>\n",
              "      <td>59.0</td>\n",
              "      <td>23.8</td>\n",
              "      <td>40.4</td>\n",
              "      <td>20.0</td>\n",
              "      <td>2.3</td>\n",
              "      <td>5.9</td>\n",
              "      <td>32.8</td>\n",
              "      <td>53.3</td>\n",
              "      <td>13.9</td>\n",
              "      <td>2.8</td>\n",
              "      <td>4.3</td>\n",
              "      <td>1.1</td>\n",
              "      <td>18.0</td>\n",
              "    </tr>\n",
              "    <tr>\n",
              "      <th>3</th>\n",
              "      <td>Severe Malaria</td>\n",
              "      <td>15.9</td>\n",
              "      <td>3.3</td>\n",
              "      <td>10.1</td>\n",
              "      <td>25.1</td>\n",
              "      <td>75.0</td>\n",
              "      <td>30.2</td>\n",
              "      <td>40.2</td>\n",
              "      <td>132.0</td>\n",
              "      <td>17.2</td>\n",
              "      <td>6.2</td>\n",
              "      <td>82.6</td>\n",
              "      <td>11.5</td>\n",
              "      <td>5.9</td>\n",
              "      <td>13.2</td>\n",
              "      <td>1.8</td>\n",
              "      <td>0.9</td>\n",
              "      <td>13.7</td>\n",
              "    </tr>\n",
              "    <tr>\n",
              "      <th>4</th>\n",
              "      <td>Severe Malaria</td>\n",
              "      <td>4.5</td>\n",
              "      <td>2.1</td>\n",
              "      <td>5.7</td>\n",
              "      <td>16.1</td>\n",
              "      <td>78.0</td>\n",
              "      <td>27.1</td>\n",
              "      <td>35.4</td>\n",
              "      <td>85.0</td>\n",
              "      <td>16.1</td>\n",
              "      <td>6.8</td>\n",
              "      <td>83.7</td>\n",
              "      <td>11.3</td>\n",
              "      <td>5.0</td>\n",
              "      <td>3.8</td>\n",
              "      <td>0.5</td>\n",
              "      <td>0.2</td>\n",
              "      <td>15.0</td>\n",
              "    </tr>\n",
              "  </tbody>\n",
              "</table>\n",
              "</div>\n",
              "      <button class=\"colab-df-convert\" onclick=\"convertToInteractive('df-1912b8bf-9932-49ba-b0eb-84bf8ae88d48')\"\n",
              "              title=\"Convert this dataframe to an interactive table.\"\n",
              "              style=\"display:none;\">\n",
              "        \n",
              "  <svg xmlns=\"http://www.w3.org/2000/svg\" height=\"24px\"viewBox=\"0 0 24 24\"\n",
              "       width=\"24px\">\n",
              "    <path d=\"M0 0h24v24H0V0z\" fill=\"none\"/>\n",
              "    <path d=\"M18.56 5.44l.94 2.06.94-2.06 2.06-.94-2.06-.94-.94-2.06-.94 2.06-2.06.94zm-11 1L8.5 8.5l.94-2.06 2.06-.94-2.06-.94L8.5 2.5l-.94 2.06-2.06.94zm10 10l.94 2.06.94-2.06 2.06-.94-2.06-.94-.94-2.06-.94 2.06-2.06.94z\"/><path d=\"M17.41 7.96l-1.37-1.37c-.4-.4-.92-.59-1.43-.59-.52 0-1.04.2-1.43.59L10.3 9.45l-7.72 7.72c-.78.78-.78 2.05 0 2.83L4 21.41c.39.39.9.59 1.41.59.51 0 1.02-.2 1.41-.59l7.78-7.78 2.81-2.81c.8-.78.8-2.07 0-2.86zM5.41 20L4 18.59l7.72-7.72 1.47 1.35L5.41 20z\"/>\n",
              "  </svg>\n",
              "      </button>\n",
              "      \n",
              "  <style>\n",
              "    .colab-df-container {\n",
              "      display:flex;\n",
              "      flex-wrap:wrap;\n",
              "      gap: 12px;\n",
              "    }\n",
              "\n",
              "    .colab-df-convert {\n",
              "      background-color: #E8F0FE;\n",
              "      border: none;\n",
              "      border-radius: 50%;\n",
              "      cursor: pointer;\n",
              "      display: none;\n",
              "      fill: #1967D2;\n",
              "      height: 32px;\n",
              "      padding: 0 0 0 0;\n",
              "      width: 32px;\n",
              "    }\n",
              "\n",
              "    .colab-df-convert:hover {\n",
              "      background-color: #E2EBFA;\n",
              "      box-shadow: 0px 1px 2px rgba(60, 64, 67, 0.3), 0px 1px 3px 1px rgba(60, 64, 67, 0.15);\n",
              "      fill: #174EA6;\n",
              "    }\n",
              "\n",
              "    [theme=dark] .colab-df-convert {\n",
              "      background-color: #3B4455;\n",
              "      fill: #D2E3FC;\n",
              "    }\n",
              "\n",
              "    [theme=dark] .colab-df-convert:hover {\n",
              "      background-color: #434B5C;\n",
              "      box-shadow: 0px 1px 3px 1px rgba(0, 0, 0, 0.15);\n",
              "      filter: drop-shadow(0px 1px 2px rgba(0, 0, 0, 0.3));\n",
              "      fill: #FFFFFF;\n",
              "    }\n",
              "  </style>\n",
              "\n",
              "      <script>\n",
              "        const buttonEl =\n",
              "          document.querySelector('#df-1912b8bf-9932-49ba-b0eb-84bf8ae88d48 button.colab-df-convert');\n",
              "        buttonEl.style.display =\n",
              "          google.colab.kernel.accessAllowed ? 'block' : 'none';\n",
              "\n",
              "        async function convertToInteractive(key) {\n",
              "          const element = document.querySelector('#df-1912b8bf-9932-49ba-b0eb-84bf8ae88d48');\n",
              "          const dataTable =\n",
              "            await google.colab.kernel.invokeFunction('convertToInteractive',\n",
              "                                                     [key], {});\n",
              "          if (!dataTable) return;\n",
              "\n",
              "          const docLinkHtml = 'Like what you see? Visit the ' +\n",
              "            '<a target=\"_blank\" href=https://colab.research.google.com/notebooks/data_table.ipynb>data table notebook</a>'\n",
              "            + ' to learn more about interactive tables.';\n",
              "          element.innerHTML = '';\n",
              "          dataTable['output_type'] = 'display_data';\n",
              "          await google.colab.output.renderOutput(dataTable, element);\n",
              "          const docLink = document.createElement('div');\n",
              "          docLink.innerHTML = docLinkHtml;\n",
              "          element.appendChild(docLink);\n",
              "        }\n",
              "      </script>\n",
              "    </div>\n",
              "  </div>\n",
              "  "
            ],
            "text/plain": [
              "  Clinical_Diagnosis  wbc_count  ...  mixed_cells_count  RBC_dist_width_Percent\n",
              "0     Severe Malaria        5.7  ...                0.3                    19.0\n",
              "1     Severe Malaria        7.8  ...                0.6                    14.4\n",
              "2     Severe Malaria        8.2  ...                1.1                    18.0\n",
              "3     Severe Malaria       15.9  ...                0.9                    13.7\n",
              "4     Severe Malaria        4.5  ...                0.2                    15.0\n",
              "\n",
              "[5 rows x 18 columns]"
            ]
          },
          "metadata": {},
          "execution_count": 9
        }
      ]
    },
    {
      "cell_type": "markdown",
      "metadata": {
        "id": "eGW6ugKZivs-"
      },
      "source": [
        "**Handling missing values**"
      ]
    },
    {
      "cell_type": "code",
      "metadata": {
        "colab": {
          "base_uri": "https://localhost:8080/"
        },
        "id": "q83moObdiKCB",
        "outputId": "62f9fbeb-eacf-40ec-b218-6cc7231e962e"
      },
      "source": [
        "#get the number of missing values for each column.\n",
        "subset.isnull().sum()"
      ],
      "execution_count": 10,
      "outputs": [
        {
          "output_type": "execute_result",
          "data": {
            "text/plain": [
              "Clinical_Diagnosis         0\n",
              "wbc_count                  0\n",
              "rbc_count                  0\n",
              "hb_level                   0\n",
              "hematocrit                 0\n",
              "mean_cell_volume           0\n",
              "mean_corp_hb               3\n",
              "mean_cell_hb_conc          2\n",
              "platelet_count             9\n",
              "platelet_distr_width      32\n",
              "mean_platelet_vl          17\n",
              "neutrophils_percent        0\n",
              "lymphocytes_percent        0\n",
              "mixed_cells_percent        0\n",
              "neutrophils_count         12\n",
              "lymphocytes_count         11\n",
              "mixed_cells_count         11\n",
              "RBC_dist_width_Percent     9\n",
              "dtype: int64"
            ]
          },
          "metadata": {},
          "execution_count": 10
        }
      ]
    },
    {
      "cell_type": "code",
      "metadata": {
        "id": "oG7da7InizQx"
      },
      "source": [
        "subset.dropna(inplace=True)"
      ],
      "execution_count": 11,
      "outputs": []
    },
    {
      "cell_type": "code",
      "metadata": {
        "colab": {
          "base_uri": "https://localhost:8080/"
        },
        "id": "yDR5-AzHaOd5",
        "outputId": "35752647-5022-483c-bc16-387597520a76"
      },
      "source": [
        "subset.shape"
      ],
      "execution_count": 12,
      "outputs": [
        {
          "output_type": "execute_result",
          "data": {
            "text/plain": [
              "(2156, 18)"
            ]
          },
          "metadata": {},
          "execution_count": 12
        }
      ]
    },
    {
      "cell_type": "markdown",
      "metadata": {
        "id": "DoQbK5VBa6H3"
      },
      "source": [
        "**Identify the different classes of our categorical variable : \"Clinical_Diagnosis\"**"
      ]
    },
    {
      "cell_type": "code",
      "metadata": {
        "colab": {
          "base_uri": "https://localhost:8080/"
        },
        "id": "s5OvkFEQaWRd",
        "outputId": "f3023d4f-f455-492d-d810-3e6836b82b6b"
      },
      "source": [
        "subset['Clinical_Diagnosis'].unique()"
      ],
      "execution_count": 13,
      "outputs": [
        {
          "output_type": "execute_result",
          "data": {
            "text/plain": [
              "array(['Severe Malaria', 'Uncomplicated Malaria', 'Non-malaria Infection'],\n",
              "      dtype=object)"
            ]
          },
          "metadata": {},
          "execution_count": 13
        }
      ]
    },
    {
      "cell_type": "code",
      "metadata": {
        "colab": {
          "base_uri": "https://localhost:8080/"
        },
        "id": "wipWj0R1bK-u",
        "outputId": "6e22eec7-0778-4366-8a81-56c4a9d77eae"
      },
      "source": [
        "labels = pd.Categorical(subset['Clinical_Diagnosis'])\n",
        "labels"
      ],
      "execution_count": 14,
      "outputs": [
        {
          "output_type": "execute_result",
          "data": {
            "text/plain": [
              "['Severe Malaria', 'Severe Malaria', 'Severe Malaria', 'Severe Malaria', 'Severe Malaria', ..., 'Uncomplicated Malaria', 'Non-malaria Infection', 'Non-malaria Infection', 'Non-malaria Infection', 'Non-malaria Infection']\n",
              "Length: 2156\n",
              "Categories (3, object): ['Non-malaria Infection', 'Severe Malaria', 'Uncomplicated Malaria']"
            ]
          },
          "metadata": {},
          "execution_count": 14
        }
      ]
    },
    {
      "cell_type": "code",
      "metadata": {
        "colab": {
          "base_uri": "https://localhost:8080/"
        },
        "id": "OSky9wafbf5a",
        "outputId": "64e37624-1c9b-4e6b-c9eb-6ea93aced991"
      },
      "source": [
        "#calculate the number of observations for each category\n",
        "subset['Clinical_Diagnosis'].value_counts()"
      ],
      "execution_count": 16,
      "outputs": [
        {
          "output_type": "execute_result",
          "data": {
            "text/plain": [
              "Non-malaria Infection    966\n",
              "Uncomplicated Malaria    702\n",
              "Severe Malaria           488\n",
              "Name: Clinical_Diagnosis, dtype: int64"
            ]
          },
          "metadata": {},
          "execution_count": 16
        }
      ]
    },
    {
      "cell_type": "markdown",
      "metadata": {
        "id": "q_gshlnSb8Nd"
      },
      "source": [
        "**Class distribution**"
      ]
    },
    {
      "cell_type": "code",
      "metadata": {
        "colab": {
          "base_uri": "https://localhost:8080/",
          "height": 388
        },
        "id": "P409z9Mab_2d",
        "outputId": "02305564-d072-43d2-b2c5-b1e34b4e3129"
      },
      "source": [
        "subset['Clinical_Diagnosis'].value_counts().plot.bar()"
      ],
      "execution_count": 17,
      "outputs": [
        {
          "output_type": "execute_result",
          "data": {
            "text/plain": [
              "<matplotlib.axes._subplots.AxesSubplot at 0x7f8a965dd610>"
            ]
          },
          "metadata": {},
          "execution_count": 17
        },
        {
          "output_type": "display_data",
          "data": {
            "image/png": "[encoded data removed]",
            "text/plain": [
              "<Figure size 432x288 with 1 Axes>"
            ]
          },
          "metadata": {
            "needs_background": "light"
          }
        }
      ]
    },
    {
      "cell_type": "code",
      "metadata": {
        "colab": {
          "base_uri": "https://localhost:8080/",
          "height": 582
        },
        "id": "HC9VMggJcCco",
        "outputId": "df470555-f4be-4d37-814b-e6c8d6b15373"
      },
      "source": [
        "#descriptive statistics\n",
        "subset.iloc[:,1:].describe().transpose()"
      ],
      "execution_count": 18,
      "outputs": [
        {
          "output_type": "execute_result",
          "data": {
            "text/html": [
              "\n",
              "  <div id=\"df-b2b38999-60b0-4efe-b218-93eefde19f2f\">\n",
              "    <div class=\"colab-df-container\">\n",
              "      <div>\n",
              "<style scoped>\n",
              "    .dataframe tbody tr th:only-of-type {\n",
              "        vertical-align: middle;\n",
              "    }\n",
              "\n",
              "    .dataframe tbody tr th {\n",
              "        vertical-align: top;\n",
              "    }\n",
              "\n",
              "    .dataframe thead th {\n",
              "        text-align: right;\n",
              "    }\n",
              "</style>\n",
              "<table border=\"1\" class=\"dataframe\">\n",
              "  <thead>\n",
              "    <tr style=\"text-align: right;\">\n",
              "      <th></th>\n",
              "      <th>count</th>\n",
              "      <th>mean</th>\n",
              "      <th>std</th>\n",
              "      <th>min</th>\n",
              "      <th>25%</th>\n",
              "      <th>50%</th>\n",
              "      <th>75%</th>\n",
              "      <th>max</th>\n",
              "    </tr>\n",
              "  </thead>\n",
              "  <tbody>\n",
              "    <tr>\n",
              "      <th>wbc_count</th>\n",
              "      <td>2156.0</td>\n",
              "      <td>10.723516</td>\n",
              "      <td>5.944994</td>\n",
              "      <td>0.5</td>\n",
              "      <td>6.80</td>\n",
              "      <td>9.30</td>\n",
              "      <td>12.900</td>\n",
              "      <td>53.90</td>\n",
              "    </tr>\n",
              "    <tr>\n",
              "      <th>rbc_count</th>\n",
              "      <td>2156.0</td>\n",
              "      <td>3.911679</td>\n",
              "      <td>1.132454</td>\n",
              "      <td>0.5</td>\n",
              "      <td>3.34</td>\n",
              "      <td>4.17</td>\n",
              "      <td>4.650</td>\n",
              "      <td>6.67</td>\n",
              "    </tr>\n",
              "    <tr>\n",
              "      <th>hb_level</th>\n",
              "      <td>2156.0</td>\n",
              "      <td>9.423010</td>\n",
              "      <td>2.650261</td>\n",
              "      <td>1.4</td>\n",
              "      <td>7.90</td>\n",
              "      <td>10.20</td>\n",
              "      <td>11.325</td>\n",
              "      <td>18.70</td>\n",
              "    </tr>\n",
              "    <tr>\n",
              "      <th>hematocrit</th>\n",
              "      <td>2156.0</td>\n",
              "      <td>29.320223</td>\n",
              "      <td>8.802975</td>\n",
              "      <td>4.3</td>\n",
              "      <td>24.20</td>\n",
              "      <td>31.70</td>\n",
              "      <td>35.500</td>\n",
              "      <td>52.70</td>\n",
              "    </tr>\n",
              "    <tr>\n",
              "      <th>mean_cell_volume</th>\n",
              "      <td>2156.0</td>\n",
              "      <td>74.828256</td>\n",
              "      <td>8.046383</td>\n",
              "      <td>7.8</td>\n",
              "      <td>70.00</td>\n",
              "      <td>75.00</td>\n",
              "      <td>80.000</td>\n",
              "      <td>121.00</td>\n",
              "    </tr>\n",
              "    <tr>\n",
              "      <th>mean_corp_hb</th>\n",
              "      <td>2156.0</td>\n",
              "      <td>24.142189</td>\n",
              "      <td>3.203595</td>\n",
              "      <td>2.1</td>\n",
              "      <td>22.20</td>\n",
              "      <td>24.10</td>\n",
              "      <td>26.200</td>\n",
              "      <td>38.80</td>\n",
              "    </tr>\n",
              "    <tr>\n",
              "      <th>mean_cell_hb_conc</th>\n",
              "      <td>2156.0</td>\n",
              "      <td>32.259318</td>\n",
              "      <td>2.864637</td>\n",
              "      <td>15.7</td>\n",
              "      <td>30.60</td>\n",
              "      <td>32.10</td>\n",
              "      <td>33.425</td>\n",
              "      <td>46.60</td>\n",
              "    </tr>\n",
              "    <tr>\n",
              "      <th>platelet_count</th>\n",
              "      <td>2156.0</td>\n",
              "      <td>214.545176</td>\n",
              "      <td>128.697718</td>\n",
              "      <td>3.0</td>\n",
              "      <td>105.00</td>\n",
              "      <td>201.00</td>\n",
              "      <td>300.250</td>\n",
              "      <td>1087.00</td>\n",
              "    </tr>\n",
              "    <tr>\n",
              "      <th>platelet_distr_width</th>\n",
              "      <td>2156.0</td>\n",
              "      <td>14.137894</td>\n",
              "      <td>3.064643</td>\n",
              "      <td>0.0</td>\n",
              "      <td>12.90</td>\n",
              "      <td>14.90</td>\n",
              "      <td>15.600</td>\n",
              "      <td>23.90</td>\n",
              "    </tr>\n",
              "    <tr>\n",
              "      <th>mean_platelet_vl</th>\n",
              "      <td>2156.0</td>\n",
              "      <td>8.031447</td>\n",
              "      <td>1.194886</td>\n",
              "      <td>3.3</td>\n",
              "      <td>7.20</td>\n",
              "      <td>7.90</td>\n",
              "      <td>8.800</td>\n",
              "      <td>18.60</td>\n",
              "    </tr>\n",
              "    <tr>\n",
              "      <th>neutrophils_percent</th>\n",
              "      <td>2156.0</td>\n",
              "      <td>58.623006</td>\n",
              "      <td>16.613445</td>\n",
              "      <td>9.3</td>\n",
              "      <td>46.00</td>\n",
              "      <td>59.40</td>\n",
              "      <td>72.200</td>\n",
              "      <td>93.30</td>\n",
              "    </tr>\n",
              "    <tr>\n",
              "      <th>lymphocytes_percent</th>\n",
              "      <td>2156.0</td>\n",
              "      <td>33.014842</td>\n",
              "      <td>14.970647</td>\n",
              "      <td>3.8</td>\n",
              "      <td>20.60</td>\n",
              "      <td>31.70</td>\n",
              "      <td>44.200</td>\n",
              "      <td>81.50</td>\n",
              "    </tr>\n",
              "    <tr>\n",
              "      <th>mixed_cells_percent</th>\n",
              "      <td>2156.0</td>\n",
              "      <td>8.362199</td>\n",
              "      <td>3.436953</td>\n",
              "      <td>0.3</td>\n",
              "      <td>5.80</td>\n",
              "      <td>8.00</td>\n",
              "      <td>10.600</td>\n",
              "      <td>27.30</td>\n",
              "    </tr>\n",
              "    <tr>\n",
              "      <th>neutrophils_count</th>\n",
              "      <td>2156.0</td>\n",
              "      <td>6.440802</td>\n",
              "      <td>4.268695</td>\n",
              "      <td>0.1</td>\n",
              "      <td>3.60</td>\n",
              "      <td>5.40</td>\n",
              "      <td>8.000</td>\n",
              "      <td>42.00</td>\n",
              "    </tr>\n",
              "    <tr>\n",
              "      <th>lymphocytes_count</th>\n",
              "      <td>2156.0</td>\n",
              "      <td>3.430728</td>\n",
              "      <td>2.534383</td>\n",
              "      <td>0.3</td>\n",
              "      <td>1.70</td>\n",
              "      <td>2.80</td>\n",
              "      <td>4.400</td>\n",
              "      <td>28.10</td>\n",
              "    </tr>\n",
              "    <tr>\n",
              "      <th>mixed_cells_count</th>\n",
              "      <td>2156.0</td>\n",
              "      <td>0.851981</td>\n",
              "      <td>0.635395</td>\n",
              "      <td>0.0</td>\n",
              "      <td>0.40</td>\n",
              "      <td>0.70</td>\n",
              "      <td>1.100</td>\n",
              "      <td>5.60</td>\n",
              "    </tr>\n",
              "    <tr>\n",
              "      <th>RBC_dist_width_Percent</th>\n",
              "      <td>2156.0</td>\n",
              "      <td>16.333808</td>\n",
              "      <td>2.590446</td>\n",
              "      <td>10.6</td>\n",
              "      <td>14.50</td>\n",
              "      <td>15.80</td>\n",
              "      <td>17.600</td>\n",
              "      <td>29.00</td>\n",
              "    </tr>\n",
              "  </tbody>\n",
              "</table>\n",
              "</div>\n",
              "      <button class=\"colab-df-convert\" onclick=\"convertToInteractive('df-b2b38999-60b0-4efe-b218-93eefde19f2f')\"\n",
              "              title=\"Convert this dataframe to an interactive table.\"\n",
              "              style=\"display:none;\">\n",
              "        \n",
              "  <svg xmlns=\"http://www.w3.org/2000/svg\" height=\"24px\"viewBox=\"0 0 24 24\"\n",
              "       width=\"24px\">\n",
              "    <path d=\"M0 0h24v24H0V0z\" fill=\"none\"/>\n",
              "    <path d=\"M18.56 5.44l.94 2.06.94-2.06 2.06-.94-2.06-.94-.94-2.06-.94 2.06-2.06.94zm-11 1L8.5 8.5l.94-2.06 2.06-.94-2.06-.94L8.5 2.5l-.94 2.06-2.06.94zm10 10l.94 2.06.94-2.06 2.06-.94-2.06-.94-.94-2.06-.94 2.06-2.06.94z\"/><path d=\"M17.41 7.96l-1.37-1.37c-.4-.4-.92-.59-1.43-.59-.52 0-1.04.2-1.43.59L10.3 9.45l-7.72 7.72c-.78.78-.78 2.05 0 2.83L4 21.41c.39.39.9.59 1.41.59.51 0 1.02-.2 1.41-.59l7.78-7.78 2.81-2.81c.8-.78.8-2.07 0-2.86zM5.41 20L4 18.59l7.72-7.72 1.47 1.35L5.41 20z\"/>\n",
              "  </svg>\n",
              "      </button>\n",
              "      \n",
              "  <style>\n",
              "    .colab-df-container {\n",
              "      display:flex;\n",
              "      flex-wrap:wrap;\n",
              "      gap: 12px;\n",
              "    }\n",
              "\n",
              "    .colab-df-convert {\n",
              "      background-color: #E8F0FE;\n",
              "      border: none;\n",
              "      border-radius: 50%;\n",
              "      cursor: pointer;\n",
              "      display: none;\n",
              "      fill: #1967D2;\n",
              "      height: 32px;\n",
              "      padding: 0 0 0 0;\n",
              "      width: 32px;\n",
              "    }\n",
              "\n",
              "    .colab-df-convert:hover {\n",
              "      background-color: #E2EBFA;\n",
              "      box-shadow: 0px 1px 2px rgba(60, 64, 67, 0.3), 0px 1px 3px 1px rgba(60, 64, 67, 0.15);\n",
              "      fill: #174EA6;\n",
              "    }\n",
              "\n",
              "    [theme=dark] .colab-df-convert {\n",
              "      background-color: #3B4455;\n",
              "      fill: #D2E3FC;\n",
              "    }\n",
              "\n",
              "    [theme=dark] .colab-df-convert:hover {\n",
              "      background-color: #434B5C;\n",
              "      box-shadow: 0px 1px 3px 1px rgba(0, 0, 0, 0.15);\n",
              "      filter: drop-shadow(0px 1px 2px rgba(0, 0, 0, 0.3));\n",
              "      fill: #FFFFFF;\n",
              "    }\n",
              "  </style>\n",
              "\n",
              "      <script>\n",
              "        const buttonEl =\n",
              "          document.querySelector('#df-b2b38999-60b0-4efe-b218-93eefde19f2f button.colab-df-convert');\n",
              "        buttonEl.style.display =\n",
              "          google.colab.kernel.accessAllowed ? 'block' : 'none';\n",
              "\n",
              "        async function convertToInteractive(key) {\n",
              "          const element = document.querySelector('#df-b2b38999-60b0-4efe-b218-93eefde19f2f');\n",
              "          const dataTable =\n",
              "            await google.colab.kernel.invokeFunction('convertToInteractive',\n",
              "                                                     [key], {});\n",
              "          if (!dataTable) return;\n",
              "\n",
              "          const docLinkHtml = 'Like what you see? Visit the ' +\n",
              "            '<a target=\"_blank\" href=https://colab.research.google.com/notebooks/data_table.ipynb>data table notebook</a>'\n",
              "            + ' to learn more about interactive tables.';\n",
              "          element.innerHTML = '';\n",
              "          dataTable['output_type'] = 'display_data';\n",
              "          await google.colab.output.renderOutput(dataTable, element);\n",
              "          const docLink = document.createElement('div');\n",
              "          docLink.innerHTML = docLinkHtml;\n",
              "          element.appendChild(docLink);\n",
              "        }\n",
              "      </script>\n",
              "    </div>\n",
              "  </div>\n",
              "  "
            ],
            "text/plain": [
              "                         count        mean  ...      75%      max\n",
              "wbc_count               2156.0   10.723516  ...   12.900    53.90\n",
              "rbc_count               2156.0    3.911679  ...    4.650     6.67\n",
              "hb_level                2156.0    9.423010  ...   11.325    18.70\n",
              "hematocrit              2156.0   29.320223  ...   35.500    52.70\n",
              "mean_cell_volume        2156.0   74.828256  ...   80.000   121.00\n",
              "mean_corp_hb            2156.0   24.142189  ...   26.200    38.80\n",
              "mean_cell_hb_conc       2156.0   32.259318  ...   33.425    46.60\n",
              "platelet_count          2156.0  214.545176  ...  300.250  1087.00\n",
              "platelet_distr_width    2156.0   14.137894  ...   15.600    23.90\n",
              "mean_platelet_vl        2156.0    8.031447  ...    8.800    18.60\n",
              "neutrophils_percent     2156.0   58.623006  ...   72.200    93.30\n",
              "lymphocytes_percent     2156.0   33.014842  ...   44.200    81.50\n",
              "mixed_cells_percent     2156.0    8.362199  ...   10.600    27.30\n",
              "neutrophils_count       2156.0    6.440802  ...    8.000    42.00\n",
              "lymphocytes_count       2156.0    3.430728  ...    4.400    28.10\n",
              "mixed_cells_count       2156.0    0.851981  ...    1.100     5.60\n",
              "RBC_dist_width_Percent  2156.0   16.333808  ...   17.600    29.00\n",
              "\n",
              "[17 rows x 8 columns]"
            ]
          },
          "metadata": {},
          "execution_count": 18
        }
      ]
    },
    {
      "cell_type": "markdown",
      "metadata": {
        "id": "BMxHW96Ad1kv"
      },
      "source": [
        "**Checking for correlation between features**"
      ]
    },
    {
      "cell_type": "code",
      "metadata": {
        "colab": {
          "base_uri": "https://localhost:8080/",
          "height": 614
        },
        "id": "XujxS7Jzc1Gg",
        "outputId": "87273d41-1eca-4c3a-dbe8-d95a00d7a851"
      },
      "source": [
        "plt.figure(figsize=(18,8))\n",
        "sns.heatmap(subset.corr(), annot=True, cmap='coolwarm')"
      ],
      "execution_count": 19,
      "outputs": [
        {
          "output_type": "execute_result",
          "data": {
            "text/plain": [
              "<matplotlib.axes._subplots.AxesSubplot at 0x7f8a965c3e10>"
            ]
          },
          "metadata": {},
          "execution_count": 19
        },
        {
          "output_type": "display_data",
          "data": {
            "image/png": "[encoded data removed]",
            "text/plain": [
              "<Figure size 1296x576 with 2 Axes>"
            ]
          },
          "metadata": {
            "needs_background": "light"
          }
        }
      ]
    },
    {
      "cell_type": "markdown",
      "source": [
        "# **4. Feature Selection**"
      ],
      "metadata": {
        "id": "KFy_zxcQOUd5"
      }
    },
    {
      "cell_type": "code",
      "source": [
        "# remove \"Lymphocyte Percent\" , \"hematocrit\", \"hb_level\", \"neutrophils_count\"\n",
        "\n",
        "subset.drop(['hb_level', 'lymphocytes_percent', 'hematocrit', 'neutrophils_count'], axis=1, inplace=True) "
      ],
      "metadata": {
        "id": "sjmPbNIyTCRt"
      },
      "execution_count": 20,
      "outputs": []
    },
    {
      "cell_type": "code",
      "source": [
        "plt.figure(figsize=(18,8))\n",
        "sns.heatmap(subset.corr(), annot=True, cmap='coolwarm')"
      ],
      "metadata": {
        "id": "19aR75coXm0A",
        "outputId": "3643d4ff-a90c-417b-cce9-53a5f0363078",
        "colab": {
          "base_uri": "https://localhost:8080/",
          "height": 614
        }
      },
      "execution_count": 21,
      "outputs": [
        {
          "output_type": "execute_result",
          "data": {
            "text/plain": [
              "<matplotlib.axes._subplots.AxesSubplot at 0x7f8a8d544b50>"
            ]
          },
          "metadata": {},
          "execution_count": 21
        },
        {
          "output_type": "display_data",
          "data": {
            "image/png": "[encoded data removed]",
            "text/plain": [
              "<Figure size 1296x576 with 2 Axes>"
            ]
          },
          "metadata": {
            "needs_background": "light"
          }
        }
      ]
    },
    {
      "cell_type": "markdown",
      "source": [
        "## **Separate features from target** "
      ],
      "metadata": {
        "id": "-jg9efika8W2"
      }
    },
    {
      "cell_type": "code",
      "metadata": {
        "id": "zkdyDouGdaKJ"
      },
      "source": [
        "# Putting Feature Variable to X and Target variable to y\n",
        "X = subset.iloc[:,1:]\n",
        "y = subset.iloc[:,0]"
      ],
      "execution_count": 22,
      "outputs": []
    },
    {
      "cell_type": "markdown",
      "metadata": {
        "id": "k_SG-Q9adODH"
      },
      "source": [
        "# **5. Label Encoding**"
      ]
    },
    {
      "cell_type": "code",
      "metadata": {
        "id": "U5ipSxEoeqYb"
      },
      "source": [
        "label_encoder = LabelEncoder()\n",
        "label_encoder.fit(y)\n",
        "y_encoded = label_encoder.transform(y)"
      ],
      "execution_count": 23,
      "outputs": []
    },
    {
      "cell_type": "code",
      "metadata": {
        "colab": {
          "base_uri": "https://localhost:8080/"
        },
        "id": "0GmCHdhUfD66",
        "outputId": "b43b39e2-b982-41f8-f658-926d0559f04f"
      },
      "source": [
        "classes = label_encoder.classes_\n",
        "print(classes)"
      ],
      "execution_count": 24,
      "outputs": [
        {
          "output_type": "stream",
          "name": "stdout",
          "text": [
            "['Non-malaria Infection' 'Severe Malaria' 'Uncomplicated Malaria']\n"
          ]
        }
      ]
    },
    {
      "cell_type": "markdown",
      "metadata": {
        "id": "zQbLvUm_fldb"
      },
      "source": [
        "#**6. Split data into train and test sets**"
      ]
    },
    {
      "cell_type": "code",
      "metadata": {
        "id": "4pY_qajqfoMY"
      },
      "source": [
        "# 80% of the data for traning and 20% for the test \n",
        "X_train, X_test, y_train, y_test = train_test_split(X, y_encoded, test_size = 0.2)"
      ],
      "execution_count": 25,
      "outputs": []
    },
    {
      "cell_type": "code",
      "metadata": {
        "colab": {
          "base_uri": "https://localhost:8080/"
        },
        "id": "ac2-FE8LgPTk",
        "outputId": "33d807b4-36c7-46a3-f16d-37471e3f052e"
      },
      "source": [
        "X_train.shape, y_train.shape, X_test.shape, y_test.shape"
      ],
      "execution_count": 26,
      "outputs": [
        {
          "output_type": "execute_result",
          "data": {
            "text/plain": [
              "((1724, 13), (1724,), (432, 13), (432,))"
            ]
          },
          "metadata": {},
          "execution_count": 26
        }
      ]
    },
    {
      "cell_type": "markdown",
      "source": [
        "# **7. Standardization of the data**"
      ],
      "metadata": {
        "id": "-OzeQ6MYMMEK"
      }
    },
    {
      "cell_type": "code",
      "source": [
        "min_max_scaler = MinMaxScaler()\n",
        "X_train_scaled = min_max_scaler.fit_transform(X_train)\n",
        "X_test_scaled = min_max_scaler.fit_transform(X_test)"
      ],
      "metadata": {
        "id": "nijNY3u2MaPW"
      },
      "execution_count": 27,
      "outputs": []
    },
    {
      "cell_type": "markdown",
      "source": [
        ""
      ],
      "metadata": {
        "id": "TyfJ6yrDh11t"
      }
    },
    {
      "cell_type": "markdown",
      "source": [
        "#**8. Training and Hyperparameter tuning**"
      ],
      "metadata": {
        "id": "Tyzo9pKCkmot"
      }
    },
    {
      "cell_type": "code",
      "source": [
        "rf_clf = RandomForestClassifier(random_state=42, n_jobs=-1) "
      ],
      "metadata": {
        "id": "RZ2efKalk3YP"
      },
      "execution_count": 29,
      "outputs": []
    },
    {
      "cell_type": "code",
      "source": [
        "params = {\n",
        "    'max_depth': [2,3,5,10,20],\n",
        "    'min_samples_leaf': [5,10,20,50,100],\n",
        "    'n_estimators': [10,25,30,50,100]}"
      ],
      "metadata": {
        "id": "xt7qTZ0Gkya7"
      },
      "execution_count": 30,
      "outputs": []
    },
    {
      "cell_type": "code",
      "source": [
        "# Instantiate the grid search model\n",
        "grid_search = GridSearchCV(estimator=rf_clf,\n",
        "                           param_grid=params,\n",
        "                           cv = 4,\n",
        "                           n_jobs=-1, verbose=1, scoring=\"accuracy\")"
      ],
      "metadata": {
        "id": "Rmd6xzkDk_xc"
      },
      "execution_count": 31,
      "outputs": []
    },
    {
      "cell_type": "code",
      "source": [
        "%%time\n",
        "grid_search.fit(X_train, y_train)"
      ],
      "metadata": {
        "colab": {
          "base_uri": "https://localhost:8080/"
        },
        "id": "yN_Hc-zHlE1v",
        "outputId": "c5094cc4-233e-4a3f-8b3d-a8e68fdfb889"
      },
      "execution_count": 32,
      "outputs": [
        {
          "output_type": "stream",
          "name": "stdout",
          "text": [
            "Fitting 4 folds for each of 125 candidates, totalling 500 fits\n",
            "CPU times: user 3.94 s, sys: 234 ms, total: 4.18 s\n",
            "Wall time: 1min 29s\n"
          ]
        },
        {
          "output_type": "execute_result",
          "data": {
            "text/plain": [
              "GridSearchCV(cv=4, estimator=RandomForestClassifier(n_jobs=-1, random_state=42),\n",
              "             n_jobs=-1,\n",
              "             param_grid={'max_depth': [2, 3, 5, 10, 20],\n",
              "                         'min_samples_leaf': [5, 10, 20, 50, 100],\n",
              "                         'n_estimators': [10, 25, 30, 50, 100]},\n",
              "             scoring='accuracy', verbose=1)"
            ]
          },
          "metadata": {},
          "execution_count": 32
        }
      ]
    },
    {
      "cell_type": "code",
      "source": [
        "grid_search.best_score_"
      ],
      "metadata": {
        "colab": {
          "base_uri": "https://localhost:8080/"
        },
        "id": "7zkPBitUlNzF",
        "outputId": "757be8c2-c262-4144-9940-384fb86ab644"
      },
      "execution_count": 33,
      "outputs": [
        {
          "output_type": "execute_result",
          "data": {
            "text/plain": [
              "0.8271461716937355"
            ]
          },
          "metadata": {},
          "execution_count": 33
        }
      ]
    },
    {
      "cell_type": "code",
      "source": [
        "rf_best = grid_search.best_estimator_\n",
        "rf_best"
      ],
      "metadata": {
        "colab": {
          "base_uri": "https://localhost:8080/"
        },
        "id": "7jX2O_0mlQ9K",
        "outputId": "d7b3a149-2855-4756-9a69-f94d4b391dd7"
      },
      "execution_count": 34,
      "outputs": [
        {
          "output_type": "execute_result",
          "data": {
            "text/plain": [
              "RandomForestClassifier(max_depth=20, min_samples_leaf=5, n_jobs=-1,\n",
              "                       random_state=42)"
            ]
          },
          "metadata": {},
          "execution_count": 34
        }
      ]
    },
    {
      "cell_type": "code",
      "metadata": {
        "colab": {
          "base_uri": "https://localhost:8080/"
        },
        "id": "DUT1efg2sxtg",
        "outputId": "572a32fe-62d5-4349-b8c7-14ee9f00f212"
      },
      "source": [
        "%%time\n",
        "rf_best.fit(X_train, y_train)"
      ],
      "execution_count": 35,
      "outputs": [
        {
          "output_type": "stream",
          "name": "stdout",
          "text": [
            "CPU times: user 593 ms, sys: 23.8 ms, total: 617 ms\n",
            "Wall time: 454 ms\n"
          ]
        },
        {
          "output_type": "execute_result",
          "data": {
            "text/plain": [
              "RandomForestClassifier(max_depth=20, min_samples_leaf=5, n_jobs=-1,\n",
              "                       random_state=42)"
            ]
          },
          "metadata": {},
          "execution_count": 35
        }
      ]
    },
    {
      "cell_type": "markdown",
      "metadata": {
        "id": "Gih4Xfvbih1z"
      },
      "source": [
        "#**9. Testing phase**"
      ]
    },
    {
      "cell_type": "code",
      "metadata": {
        "id": "DNd1XofxjW1K"
      },
      "source": [
        "predictions = rf_best.predict(X_test)"
      ],
      "execution_count": 36,
      "outputs": []
    },
    {
      "cell_type": "markdown",
      "metadata": {
        "id": "kGdwjbkokhWn"
      },
      "source": [
        "#**10. Evaluating the model on test data**"
      ]
    },
    {
      "cell_type": "markdown",
      "metadata": {
        "id": "A-3f6fcPlgTW"
      },
      "source": [
        "**Accuracy**"
      ]
    },
    {
      "cell_type": "code",
      "metadata": {
        "colab": {
          "base_uri": "https://localhost:8080/"
        },
        "id": "V2SBlutdkkh4",
        "outputId": "08b168d7-1872-44ae-9c70-4f7f2d19f3fc"
      },
      "source": [
        "accuracy_score = accuracy_score(y_test, predictions)\n",
        "accuracy_score=round(accuracy_score,2)\n",
        "print('Accuracy:',accuracy_score)"
      ],
      "execution_count": 37,
      "outputs": [
        {
          "output_type": "stream",
          "name": "stdout",
          "text": [
            "Accuracy: 0.81\n"
          ]
        }
      ]
    },
    {
      "cell_type": "markdown",
      "metadata": {
        "id": "BAEoyl7EloeR"
      },
      "source": [
        "**F1 Score**"
      ]
    },
    {
      "cell_type": "code",
      "metadata": {
        "colab": {
          "base_uri": "https://localhost:8080/"
        },
        "id": "iHFv6uDXknzE",
        "outputId": "af4f3d0f-04d6-45e5-d97c-3ed2828cdc08"
      },
      "source": [
        "f1score = f1_score(y_test, predictions, average='weighted')\n",
        "f1score = round(f1score, 2)\n",
        "print('F1-Score:', f1score)"
      ],
      "execution_count": 38,
      "outputs": [
        {
          "output_type": "stream",
          "name": "stdout",
          "text": [
            "F1-Score: 0.81\n"
          ]
        }
      ]
    },
    {
      "cell_type": "markdown",
      "metadata": {
        "id": "5GI7SbsIlsb5"
      },
      "source": [
        "**Precision**"
      ]
    },
    {
      "cell_type": "code",
      "metadata": {
        "colab": {
          "base_uri": "https://localhost:8080/"
        },
        "id": "LWYcq-oYkqpU",
        "outputId": "291cd981-0029-4dc8-a3a2-2d6dd351db59"
      },
      "source": [
        "precision = precision_score(y_test, predictions, average='weighted')\n",
        "precision = round(precision, 2)\n",
        "print('precision:', precision)"
      ],
      "execution_count": 39,
      "outputs": [
        {
          "output_type": "stream",
          "name": "stdout",
          "text": [
            "precision: 0.81\n"
          ]
        }
      ]
    },
    {
      "cell_type": "markdown",
      "metadata": {
        "id": "qG3Gp8UelxJE"
      },
      "source": [
        "**Recall**"
      ]
    },
    {
      "cell_type": "code",
      "metadata": {
        "colab": {
          "base_uri": "https://localhost:8080/"
        },
        "id": "lMcaZExGks2b",
        "outputId": "9a33946a-fa6e-4e66-ff21-b7b5c0060635"
      },
      "source": [
        "recall = recall_score(y_test, predictions, average='weighted')\n",
        "recall = round(recall, 2)\n",
        "print('recall:', recall)"
      ],
      "execution_count": 40,
      "outputs": [
        {
          "output_type": "stream",
          "name": "stdout",
          "text": [
            "recall: 0.81\n"
          ]
        }
      ]
    },
    {
      "cell_type": "markdown",
      "metadata": {
        "id": "oWx-61jJl1Lh"
      },
      "source": [
        "**Confusion matrix**"
      ]
    },
    {
      "cell_type": "code",
      "metadata": {
        "colab": {
          "base_uri": "https://localhost:8080/",
          "height": 438
        },
        "id": "-j9QH1Tnk0dO",
        "outputId": "a7d4ac79-3e71-4952-debe-5c5087e863f6"
      },
      "source": [
        "#confusion matrix\n",
        "disp=plot_confusion_matrix(rf_best,X_test,y_test,xticks_rotation='vertical',\n",
        "                     cmap='Blues',display_labels=classes)\n"
      ],
      "execution_count": 41,
      "outputs": [
        {
          "output_type": "stream",
          "name": "stderr",
          "text": [
            "/usr/local/lib/python3.7/dist-packages/sklearn/utils/deprecation.py:87: FutureWarning: Function plot_confusion_matrix is deprecated; Function `plot_confusion_matrix` is deprecated in 1.0 and will be removed in 1.2. Use one of the class methods: ConfusionMatrixDisplay.from_predictions or ConfusionMatrixDisplay.from_estimator.\n",
            "  warnings.warn(msg, category=FutureWarning)\n"
          ]
        },
        {
          "output_type": "display_data",
          "data": {
            "image/png": "[encoded data removed]",
            "text/plain": [
              "<Figure size 432x288 with 2 Axes>"
            ]
          },
          "metadata": {
            "needs_background": "light"
          }
        }
      ]
    },
    {
      "cell_type": "markdown",
      "metadata": {
        "id": "HYrOgxN76AJy"
      },
      "source": [
        "#**11. Feature importance**"
      ]
    },
    {
      "cell_type": "markdown",
      "metadata": {
        "id": "uKmFjnnC8itU"
      },
      "source": [
        "Let's sort the data with the help of feature importance."
      ]
    },
    {
      "cell_type": "code",
      "metadata": {
        "colab": {
          "base_uri": "https://localhost:8080/"
        },
        "id": "w4OD9xn161ho",
        "outputId": "1edd3321-4050-4e99-de15-86d6a3fbf604"
      },
      "source": [
        "rf_best.feature_importances_"
      ],
      "execution_count": 42,
      "outputs": [
        {
          "output_type": "execute_result",
          "data": {
            "text/plain": [
              "array([0.02621489, 0.18929001, 0.03850111, 0.03358695, 0.12429988,\n",
              "       0.21154658, 0.09102787, 0.06630327, 0.05158462, 0.02782547,\n",
              "       0.05414188, 0.02968968, 0.0559878 ])"
            ]
          },
          "metadata": {},
          "execution_count": 42
        }
      ]
    },
    {
      "cell_type": "code",
      "metadata": {
        "id": "JnkkDa-H6-vJ"
      },
      "source": [
        "imp_df = pd.DataFrame({\n",
        "    \"Varname\": X_train.columns,\n",
        "    \"Imp\": rf_best.feature_importances_\n",
        "})"
      ],
      "execution_count": 43,
      "outputs": []
    },
    {
      "cell_type": "code",
      "metadata": {
        "colab": {
          "base_uri": "https://localhost:8080/",
          "height": 457
        },
        "id": "yoNK9Ytz7Clp",
        "outputId": "84f62bf6-04cd-4e5f-972a-a91623296f0a"
      },
      "source": [
        "imp_df.sort_values(by=\"Imp\", ascending=False)"
      ],
      "execution_count": 44,
      "outputs": [
        {
          "output_type": "execute_result",
          "data": {
            "text/html": [
              "\n",
              "  <div id=\"df-107c0034-7b68-4e8b-9907-dd45164f64e5\">\n",
              "    <div class=\"colab-df-container\">\n",
              "      <div>\n",
              "<style scoped>\n",
              "    .dataframe tbody tr th:only-of-type {\n",
              "        vertical-align: middle;\n",
              "    }\n",
              "\n",
              "    .dataframe tbody tr th {\n",
              "        vertical-align: top;\n",
              "    }\n",
              "\n",
              "    .dataframe thead th {\n",
              "        text-align: right;\n",
              "    }\n",
              "</style>\n",
              "<table border=\"1\" class=\"dataframe\">\n",
              "  <thead>\n",
              "    <tr style=\"text-align: right;\">\n",
              "      <th></th>\n",
              "      <th>Varname</th>\n",
              "      <th>Imp</th>\n",
              "    </tr>\n",
              "  </thead>\n",
              "  <tbody>\n",
              "    <tr>\n",
              "      <th>5</th>\n",
              "      <td>platelet_count</td>\n",
              "      <td>0.211547</td>\n",
              "    </tr>\n",
              "    <tr>\n",
              "      <th>1</th>\n",
              "      <td>rbc_count</td>\n",
              "      <td>0.189290</td>\n",
              "    </tr>\n",
              "    <tr>\n",
              "      <th>4</th>\n",
              "      <td>mean_cell_hb_conc</td>\n",
              "      <td>0.124300</td>\n",
              "    </tr>\n",
              "    <tr>\n",
              "      <th>6</th>\n",
              "      <td>platelet_distr_width</td>\n",
              "      <td>0.091028</td>\n",
              "    </tr>\n",
              "    <tr>\n",
              "      <th>7</th>\n",
              "      <td>mean_platelet_vl</td>\n",
              "      <td>0.066303</td>\n",
              "    </tr>\n",
              "    <tr>\n",
              "      <th>12</th>\n",
              "      <td>RBC_dist_width_Percent</td>\n",
              "      <td>0.055988</td>\n",
              "    </tr>\n",
              "    <tr>\n",
              "      <th>10</th>\n",
              "      <td>lymphocytes_count</td>\n",
              "      <td>0.054142</td>\n",
              "    </tr>\n",
              "    <tr>\n",
              "      <th>8</th>\n",
              "      <td>neutrophils_percent</td>\n",
              "      <td>0.051585</td>\n",
              "    </tr>\n",
              "    <tr>\n",
              "      <th>2</th>\n",
              "      <td>mean_cell_volume</td>\n",
              "      <td>0.038501</td>\n",
              "    </tr>\n",
              "    <tr>\n",
              "      <th>3</th>\n",
              "      <td>mean_corp_hb</td>\n",
              "      <td>0.033587</td>\n",
              "    </tr>\n",
              "    <tr>\n",
              "      <th>11</th>\n",
              "      <td>mixed_cells_count</td>\n",
              "      <td>0.029690</td>\n",
              "    </tr>\n",
              "    <tr>\n",
              "      <th>9</th>\n",
              "      <td>mixed_cells_percent</td>\n",
              "      <td>0.027825</td>\n",
              "    </tr>\n",
              "    <tr>\n",
              "      <th>0</th>\n",
              "      <td>wbc_count</td>\n",
              "      <td>0.026215</td>\n",
              "    </tr>\n",
              "  </tbody>\n",
              "</table>\n",
              "</div>\n",
              "      <button class=\"colab-df-convert\" onclick=\"convertToInteractive('df-107c0034-7b68-4e8b-9907-dd45164f64e5')\"\n",
              "              title=\"Convert this dataframe to an interactive table.\"\n",
              "              style=\"display:none;\">\n",
              "        \n",
              "  <svg xmlns=\"http://www.w3.org/2000/svg\" height=\"24px\"viewBox=\"0 0 24 24\"\n",
              "       width=\"24px\">\n",
              "    <path d=\"M0 0h24v24H0V0z\" fill=\"none\"/>\n",
              "    <path d=\"M18.56 5.44l.94 2.06.94-2.06 2.06-.94-2.06-.94-.94-2.06-.94 2.06-2.06.94zm-11 1L8.5 8.5l.94-2.06 2.06-.94-2.06-.94L8.5 2.5l-.94 2.06-2.06.94zm10 10l.94 2.06.94-2.06 2.06-.94-2.06-.94-.94-2.06-.94 2.06-2.06.94z\"/><path d=\"M17.41 7.96l-1.37-1.37c-.4-.4-.92-.59-1.43-.59-.52 0-1.04.2-1.43.59L10.3 9.45l-7.72 7.72c-.78.78-.78 2.05 0 2.83L4 21.41c.39.39.9.59 1.41.59.51 0 1.02-.2 1.41-.59l7.78-7.78 2.81-2.81c.8-.78.8-2.07 0-2.86zM5.41 20L4 18.59l7.72-7.72 1.47 1.35L5.41 20z\"/>\n",
              "  </svg>\n",
              "      </button>\n",
              "      \n",
              "  <style>\n",
              "    .colab-df-container {\n",
              "      display:flex;\n",
              "      flex-wrap:wrap;\n",
              "      gap: 12px;\n",
              "    }\n",
              "\n",
              "    .colab-df-convert {\n",
              "      background-color: #E8F0FE;\n",
              "      border: none;\n",
              "      border-radius: 50%;\n",
              "      cursor: pointer;\n",
              "      display: none;\n",
              "      fill: #1967D2;\n",
              "      height: 32px;\n",
              "      padding: 0 0 0 0;\n",
              "      width: 32px;\n",
              "    }\n",
              "\n",
              "    .colab-df-convert:hover {\n",
              "      background-color: #E2EBFA;\n",
              "      box-shadow: 0px 1px 2px rgba(60, 64, 67, 0.3), 0px 1px 3px 1px rgba(60, 64, 67, 0.15);\n",
              "      fill: #174EA6;\n",
              "    }\n",
              "\n",
              "    [theme=dark] .colab-df-convert {\n",
              "      background-color: #3B4455;\n",
              "      fill: #D2E3FC;\n",
              "    }\n",
              "\n",
              "    [theme=dark] .colab-df-convert:hover {\n",
              "      background-color: #434B5C;\n",
              "      box-shadow: 0px 1px 3px 1px rgba(0, 0, 0, 0.15);\n",
              "      filter: drop-shadow(0px 1px 2px rgba(0, 0, 0, 0.3));\n",
              "      fill: #FFFFFF;\n",
              "    }\n",
              "  </style>\n",
              "\n",
              "      <script>\n",
              "        const buttonEl =\n",
              "          document.querySelector('#df-107c0034-7b68-4e8b-9907-dd45164f64e5 button.colab-df-convert');\n",
              "        buttonEl.style.display =\n",
              "          google.colab.kernel.accessAllowed ? 'block' : 'none';\n",
              "\n",
              "        async function convertToInteractive(key) {\n",
              "          const element = document.querySelector('#df-107c0034-7b68-4e8b-9907-dd45164f64e5');\n",
              "          const dataTable =\n",
              "            await google.colab.kernel.invokeFunction('convertToInteractive',\n",
              "                                                     [key], {});\n",
              "          if (!dataTable) return;\n",
              "\n",
              "          const docLinkHtml = 'Like what you see? Visit the ' +\n",
              "            '<a target=\"_blank\" href=https://colab.research.google.com/notebooks/data_table.ipynb>data table notebook</a>'\n",
              "            + ' to learn more about interactive tables.';\n",
              "          element.innerHTML = '';\n",
              "          dataTable['output_type'] = 'display_data';\n",
              "          await google.colab.output.renderOutput(dataTable, element);\n",
              "          const docLink = document.createElement('div');\n",
              "          docLink.innerHTML = docLinkHtml;\n",
              "          element.appendChild(docLink);\n",
              "        }\n",
              "      </script>\n",
              "    </div>\n",
              "  </div>\n",
              "  "
            ],
            "text/plain": [
              "                   Varname       Imp\n",
              "5           platelet_count  0.211547\n",
              "1                rbc_count  0.189290\n",
              "4        mean_cell_hb_conc  0.124300\n",
              "6     platelet_distr_width  0.091028\n",
              "7         mean_platelet_vl  0.066303\n",
              "12  RBC_dist_width_Percent  0.055988\n",
              "10       lymphocytes_count  0.054142\n",
              "8      neutrophils_percent  0.051585\n",
              "2         mean_cell_volume  0.038501\n",
              "3             mean_corp_hb  0.033587\n",
              "11       mixed_cells_count  0.029690\n",
              "9      mixed_cells_percent  0.027825\n",
              "0                wbc_count  0.026215"
            ]
          },
          "metadata": {},
          "execution_count": 44
        }
      ]
    },
    {
      "cell_type": "code",
      "metadata": {
        "colab": {
          "base_uri": "https://localhost:8080/"
        },
        "id": "vLX8_pbR7n-_",
        "outputId": "4786a336-32b0-49f1-f514-bf5eb3c63136"
      },
      "source": [
        "import time\n",
        "\n",
        "start_time = time.time()\n",
        "importances = rf_best.feature_importances_\n",
        "std = np.std([tree.feature_importances_ for tree in rf_best.estimators_], axis=0)\n",
        "elapsed_time = time.time() - start_time\n",
        "\n",
        "print(f\"Elapsed time to compute the importances: {elapsed_time:.3f} seconds\")"
      ],
      "execution_count": 45,
      "outputs": [
        {
          "output_type": "stream",
          "name": "stdout",
          "text": [
            "Elapsed time to compute the importances: 0.108 seconds\n"
          ]
        }
      ]
    },
    {
      "cell_type": "code",
      "metadata": {
        "colab": {
          "base_uri": "https://localhost:8080/",
          "height": 585
        },
        "id": "aiRCSunG74ek",
        "outputId": "92248852-d4d1-4086-8073-901f10b0cbd7"
      },
      "source": [
        "forest_importances = pd.Series(importances, index=X_train.columns)\n",
        "\n",
        "fig, ax = plt.subplots(figsize=(10,8))\n",
        "forest_importances.plot.bar(yerr=std, ax=ax)\n",
        "ax.set_title(\"Feature importances using MDI\")\n",
        "ax.set_ylabel(\"Mean decrease in impurity\")\n",
        "fig.tight_layout()\n"
      ],
      "execution_count": 46,
      "outputs": [
        {
          "output_type": "display_data",
          "data": {
            "image/png": "[encoded data removed]",
            "text/plain": [
              "<Figure size 720x576 with 1 Axes>"
            ]
          },
          "metadata": {
            "needs_background": "light"
          }
        }
      ]
    },
    {
      "cell_type": "code",
      "source": [
        ""
      ],
      "metadata": {
        "id": "cS8e9NHIl_MX"
      },
      "execution_count": null,
      "outputs": []
    }
  ]
}